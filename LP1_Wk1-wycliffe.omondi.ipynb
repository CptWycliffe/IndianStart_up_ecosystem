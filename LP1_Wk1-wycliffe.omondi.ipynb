{
 "cells": [
  {
   "cell_type": "markdown",
   "metadata": {},
   "source": [
    "**Career Accelerator - Project One**\n",
    "**Hanoi Group - Week One**"
   ]
  },
  {
   "cell_type": "markdown",
   "metadata": {},
   "source": [
    "# Business Understanding"
   ]
  },
  {
   "cell_type": "markdown",
   "metadata": {},
   "source": [
    "Data Analysis is the process of inspecting, cleaning, processing and modeling data to extract meaningful information to make\n",
    "decisions.This project uses a dataset about the indian start-up companies and their informations such as location,\n",
    "year founded, company name, etc as well as their funding history from 2018 to 2021, To perform an exploratory data analysis \n",
    "and draw insights from useful information found"
   ]
  },
  {
   "cell_type": "markdown",
   "metadata": {},
   "source": [
    "One of the great way for a good analysis work is to understand the business problem you are trying to solve.\n",
    "For a better understanding of the problem, create an objective or a scenario to work around"
   ]
  },
  {
   "cell_type": "markdown",
   "metadata": {},
   "source": [
    "### Aim\n",
    "As an investment company, we will investigate the indian startup ecosystem so that the company can make data driven\n",
    "decisions about entering into the indian startup business"
   ]
  },
  {
   "cell_type": "markdown",
   "metadata": {},
   "source": [
    "## Hypothesis"
   ]
  },
  {
   "cell_type": "markdown",
   "metadata": {},
   "source": [
    "### Null Hpyothesis - Indian Start-ups in the Technology industry are likely to receieve funding \n",
    "\n",
    "### Alternative Hypothesis -  indian startupsin the technology industry are not likely to receive funding "
   ]
  },
  {
   "cell_type": "markdown",
   "metadata": {},
   "source": [
    "## Questions"
   ]
  },
  {
   "cell_type": "markdown",
   "metadata": {},
   "source": [
    "##### 1. what are the top five sectors where funding is maximum?\n",
    "##### 2. what is the highest type of investment made?\n",
    "##### 3. what is the maximum amount of funding recieved by a startup?\n",
    "##### 4. what are the top five startups which are investor's favourite?\n",
    "##### 5. what is the total amount of funds each year?\n",
    "##### 6. In which year did a startup recieve the highest amount of funding?"
   ]
  },
  {
   "cell_type": "code",
   "execution_count": null,
   "metadata": {},
   "outputs": [],
   "source": []
  }
 ],
 "metadata": {
  "kernelspec": {
   "display_name": "Python 3 (ipykernel)",
   "language": "python",
   "name": "python3"
  },
  "language_info": {
   "codemirror_mode": {
    "name": "ipython",
    "version": 3
   },
   "file_extension": ".py",
   "mimetype": "text/x-python",
   "name": "python",
   "nbconvert_exporter": "python",
   "pygments_lexer": "ipython3",
   "version": "3.9.13"
  }
 },
 "nbformat": 4,
 "nbformat_minor": 4
}
